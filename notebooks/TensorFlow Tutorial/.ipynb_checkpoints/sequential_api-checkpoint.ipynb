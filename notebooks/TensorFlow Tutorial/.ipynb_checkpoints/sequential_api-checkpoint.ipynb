{
 "cells": [
  {
   "cell_type": "code",
   "execution_count": 19,
   "id": "397d3c3d-04b9-424c-a9f9-4f143e23c13d",
   "metadata": {},
   "outputs": [],
   "source": [
    "import tensorflow as tf\n",
    "from tensorflow import keras\n",
    "from tensorflow.keras import layers\n",
    "from tensorflow.keras.datasets import mnist"
   ]
  },
  {
   "cell_type": "code",
   "execution_count": 20,
   "id": "2864c59f-e62e-4599-bbad-aa3baf73b022",
   "metadata": {
    "scrolled": true
   },
   "outputs": [
    {
     "data": {
      "text/plain": [
       "'Images of digits between 0 and 9'"
      ]
     },
     "execution_count": 20,
     "metadata": {},
     "output_type": "execute_result"
    }
   ],
   "source": [
    "#MNIST DATASET\n",
    "'''Images of digits between 0 and 9'''\n",
    "#60,000 training images\n",
    "#Test set of 10,000 images\n",
    "#Imgaes are grayscale (only have one channel)\n",
    "#Pixels are 28x28 (small)\n"
   ]
  },
  {
   "cell_type": "code",
   "execution_count": 21,
   "id": "129f3b53-8cdc-46de-b77a-24c1751370e8",
   "metadata": {},
   "outputs": [
    {
     "name": "stdout",
     "output_type": "stream",
     "text": [
      "(60000, 28, 28)\n"
     ]
    }
   ],
   "source": [
    "#Load_data\n",
    "(x_train, y_train), (x_test, y_test) = mnist.load_data()\n",
    "print(x_train.shape)"
   ]
  },
  {
   "cell_type": "code",
   "execution_count": 22,
   "id": "46ccb8b8-d28c-4ce6-beff-f35d7c0460a5",
   "metadata": {},
   "outputs": [
    {
     "data": {
      "text/plain": [
       "'To send images to Neural Network'"
      ]
     },
     "execution_count": 22,
     "metadata": {},
     "output_type": "execute_result"
    }
   ],
   "source": [
    "'''To send images to Neural Network'''\n",
    "#we must flatten the images so that \n",
    "#we have one long column with feature values."
   ]
  },
  {
   "cell_type": "code",
   "execution_count": 23,
   "id": "eab9f6d4-a81b-4f3d-8150-1d647df75d08",
   "metadata": {},
   "outputs": [],
   "source": [
    "#In this line '-1' means keep the value on the dimesion (60,000) and 28*28 is the flattend version of 28x28 pixels (784)\n",
    "#we reshpape the new output from float64 to float32 to simplify computation\n",
    "# normalize values from 0 and 255 to 0 and 1 (../ 255.0)\n",
    "# do the same for x-test\n",
    "#outputs numpy arrays automatically\n",
    "x_train = x_train.reshape(-1, 28*28).astype(\"float32\") / 255.0\n",
    "x_test = x_test.reshape(-1, 28*28).astype(\"float32\") / 255.0"
   ]
  },
  {
   "cell_type": "code",
   "execution_count": 24,
   "id": "b51e5be5-f3d7-47e2-addb-ddd4960d82d7",
   "metadata": {},
   "outputs": [
    {
     "data": {
      "text/plain": [
       "'#Sequential API of Keras: convenient not flexible'"
      ]
     },
     "execution_count": 24,
     "metadata": {},
     "output_type": "execute_result"
    }
   ],
   "source": [
    "#Creating Model : Neural Network\n",
    "'''#Sequential API of Keras: convenient not flexible'''\n",
    "#Only allows one output for every input\n"
   ]
  },
  {
   "cell_type": "code",
   "execution_count": 35,
   "id": "3a1f5156-3e51-497c-8704-5aa2ee5f871f",
   "metadata": {},
   "outputs": [
    {
     "data": {
      "text/html": [
       "<pre style=\"white-space:pre;overflow-x:auto;line-height:normal;font-family:Menlo,'DejaVu Sans Mono',consolas,'Courier New',monospace\"><span style=\"font-weight: bold\">Model: \"sequential_4\"</span>\n",
       "</pre>\n"
      ],
      "text/plain": [
       "\u001b[1mModel: \"sequential_4\"\u001b[0m\n"
      ]
     },
     "metadata": {},
     "output_type": "display_data"
    },
    {
     "data": {
      "text/html": [
       "<pre style=\"white-space:pre;overflow-x:auto;line-height:normal;font-family:Menlo,'DejaVu Sans Mono',consolas,'Courier New',monospace\">┏━━━━━━━━━━━━━━━━━━━━━━━━━━━━━━━━━┳━━━━━━━━━━━━━━━━━━━━━━━━┳━━━━━━━━━━━━━━━┓\n",
       "┃<span style=\"font-weight: bold\"> Layer (type)                    </span>┃<span style=\"font-weight: bold\"> Output Shape           </span>┃<span style=\"font-weight: bold\">       Param # </span>┃\n",
       "┡━━━━━━━━━━━━━━━━━━━━━━━━━━━━━━━━━╇━━━━━━━━━━━━━━━━━━━━━━━━╇━━━━━━━━━━━━━━━┩\n",
       "│ dense_12 (<span style=\"color: #0087ff; text-decoration-color: #0087ff\">Dense</span>)                │ (<span style=\"color: #00d7ff; text-decoration-color: #00d7ff\">None</span>, <span style=\"color: #00af00; text-decoration-color: #00af00\">512</span>)            │       <span style=\"color: #00af00; text-decoration-color: #00af00\">401,920</span> │\n",
       "├─────────────────────────────────┼────────────────────────┼───────────────┤\n",
       "│ dense_13 (<span style=\"color: #0087ff; text-decoration-color: #0087ff\">Dense</span>)                │ (<span style=\"color: #00d7ff; text-decoration-color: #00d7ff\">None</span>, <span style=\"color: #00af00; text-decoration-color: #00af00\">256</span>)            │       <span style=\"color: #00af00; text-decoration-color: #00af00\">131,328</span> │\n",
       "├─────────────────────────────────┼────────────────────────┼───────────────┤\n",
       "│ dense_14 (<span style=\"color: #0087ff; text-decoration-color: #0087ff\">Dense</span>)                │ (<span style=\"color: #00d7ff; text-decoration-color: #00d7ff\">None</span>, <span style=\"color: #00af00; text-decoration-color: #00af00\">10</span>)             │         <span style=\"color: #00af00; text-decoration-color: #00af00\">2,570</span> │\n",
       "└─────────────────────────────────┴────────────────────────┴───────────────┘\n",
       "</pre>\n"
      ],
      "text/plain": [
       "┏━━━━━━━━━━━━━━━━━━━━━━━━━━━━━━━━━┳━━━━━━━━━━━━━━━━━━━━━━━━┳━━━━━━━━━━━━━━━┓\n",
       "┃\u001b[1m \u001b[0m\u001b[1mLayer (type)                   \u001b[0m\u001b[1m \u001b[0m┃\u001b[1m \u001b[0m\u001b[1mOutput Shape          \u001b[0m\u001b[1m \u001b[0m┃\u001b[1m \u001b[0m\u001b[1m      Param #\u001b[0m\u001b[1m \u001b[0m┃\n",
       "┡━━━━━━━━━━━━━━━━━━━━━━━━━━━━━━━━━╇━━━━━━━━━━━━━━━━━━━━━━━━╇━━━━━━━━━━━━━━━┩\n",
       "│ dense_12 (\u001b[38;5;33mDense\u001b[0m)                │ (\u001b[38;5;45mNone\u001b[0m, \u001b[38;5;34m512\u001b[0m)            │       \u001b[38;5;34m401,920\u001b[0m │\n",
       "├─────────────────────────────────┼────────────────────────┼───────────────┤\n",
       "│ dense_13 (\u001b[38;5;33mDense\u001b[0m)                │ (\u001b[38;5;45mNone\u001b[0m, \u001b[38;5;34m256\u001b[0m)            │       \u001b[38;5;34m131,328\u001b[0m │\n",
       "├─────────────────────────────────┼────────────────────────┼───────────────┤\n",
       "│ dense_14 (\u001b[38;5;33mDense\u001b[0m)                │ (\u001b[38;5;45mNone\u001b[0m, \u001b[38;5;34m10\u001b[0m)             │         \u001b[38;5;34m2,570\u001b[0m │\n",
       "└─────────────────────────────────┴────────────────────────┴───────────────┘\n"
      ]
     },
     "metadata": {},
     "output_type": "display_data"
    },
    {
     "data": {
      "text/html": [
       "<pre style=\"white-space:pre;overflow-x:auto;line-height:normal;font-family:Menlo,'DejaVu Sans Mono',consolas,'Courier New',monospace\"><span style=\"font-weight: bold\"> Total params: </span><span style=\"color: #00af00; text-decoration-color: #00af00\">535,818</span> (2.04 MB)\n",
       "</pre>\n"
      ],
      "text/plain": [
       "\u001b[1m Total params: \u001b[0m\u001b[38;5;34m535,818\u001b[0m (2.04 MB)\n"
      ]
     },
     "metadata": {},
     "output_type": "display_data"
    },
    {
     "data": {
      "text/html": [
       "<pre style=\"white-space:pre;overflow-x:auto;line-height:normal;font-family:Menlo,'DejaVu Sans Mono',consolas,'Courier New',monospace\"><span style=\"font-weight: bold\"> Trainable params: </span><span style=\"color: #00af00; text-decoration-color: #00af00\">535,818</span> (2.04 MB)\n",
       "</pre>\n"
      ],
      "text/plain": [
       "\u001b[1m Trainable params: \u001b[0m\u001b[38;5;34m535,818\u001b[0m (2.04 MB)\n"
      ]
     },
     "metadata": {},
     "output_type": "display_data"
    },
    {
     "data": {
      "text/html": [
       "<pre style=\"white-space:pre;overflow-x:auto;line-height:normal;font-family:Menlo,'DejaVu Sans Mono',consolas,'Courier New',monospace\"><span style=\"font-weight: bold\"> Non-trainable params: </span><span style=\"color: #00af00; text-decoration-color: #00af00\">0</span> (0.00 B)\n",
       "</pre>\n"
      ],
      "text/plain": [
       "\u001b[1m Non-trainable params: \u001b[0m\u001b[38;5;34m0\u001b[0m (0.00 B)\n"
      ]
     },
     "metadata": {},
     "output_type": "display_data"
    },
    {
     "name": "stdout",
     "output_type": "stream",
     "text": [
      "None\n",
      "Epoch 1/5\n",
      "1875/1875 - 6s - 3ms/step - accuracy: 0.9420 - loss: 0.1897\n",
      "Epoch 2/5\n",
      "1875/1875 - 5s - 3ms/step - accuracy: 0.9754 - loss: 0.0784\n",
      "Epoch 3/5\n",
      "1875/1875 - 5s - 3ms/step - accuracy: 0.9834 - loss: 0.0535\n",
      "Epoch 4/5\n",
      "1875/1875 - 5s - 3ms/step - accuracy: 0.9867 - loss: 0.0418\n",
      "Epoch 5/5\n",
      "1875/1875 - 5s - 3ms/step - accuracy: 0.9897 - loss: 0.0320\n",
      "313/313 - 0s - 810us/step - accuracy: 0.9797 - loss: 0.0686\n"
     ]
    },
    {
     "data": {
      "text/plain": [
       "[0.06864462047815323, 0.9797000288963318]"
      ]
     },
     "execution_count": 35,
     "metadata": {},
     "output_type": "execute_result"
    }
   ],
   "source": [
    "'''Steps'''\n",
    "'''Setting up Neural Network Model: model = '''\n",
    "#1.Send in list that is the layers (set input for model summary, USED FOR DEBUGGING)\n",
    "#2.Set number of nodes using dense function \n",
    "#3.Set activation (in this case relu)\n",
    "#4.Each layer sends the images through (like a filter) until final output layer. In this case 10 nodes will be one node for each digit 1-9\n",
    "#5.No activation on output layer\n",
    "model = keras.Sequential(\n",
    "    [\n",
    "        keras.Input(shape=(28*28,)),\n",
    "        layers.Dense(512, activation = 'relu'),\n",
    "        layers.Dense(256, activation = 'relu'),\n",
    "        layers.Dense(10)\n",
    "        \n",
    "    ]\n",
    ")\n",
    "print(model.summary())\n",
    "\n",
    "### FOR DEBUGGING ADD LAYERS ONE AT A TIME AND PRINT model.summary():\n",
    "#model = keras.Sequential()\n",
    "#model.add(keras.Input(shape=(784,)))\n",
    "#model.add(layers.Dense(512, activation = 'relu')\n",
    "#print(model.summary())\n",
    "#model.add ...\n",
    "#print(model.summary())\n",
    "\n",
    "'''Tell keras how to configure the training part of our network: model.compile'''\n",
    "#6. Set up loss function with .losses\n",
    "#7. specify optimizer: for arguments we send in learning rate\n",
    "#8. specify metrics: in this case we use accuracy so that keras tracks running accuracy throughout training\n",
    "model.compile(\n",
    "    loss=keras.losses.SparseCategoricalCrossentropy(from_logits=True),\n",
    "    optimizer=keras.optimizers.Adam(learning_rate=0.001),\n",
    "    metrics=[\"accuracy\"]\n",
    ")\n",
    "\n",
    "'''Setting up Concrete Training of Network'''\n",
    "#9. specify batch size that model is trained on and \"verbose = true\" prints after each epoch\n",
    "#10. evaluate after traning (not specifying epoch defaults to 1 epoch)\n",
    "#11.\n",
    "model.fit(x_train, y_train, batch_size=32, epochs=5, verbose=2)\n",
    "model.evaluate(x_test, y_test, batch_size=32, verbose=2)"
   ]
  },
  {
   "cell_type": "code",
   "execution_count": null,
   "id": "cc6386c0-5245-48f5-8a3d-b23b0e422f7f",
   "metadata": {},
   "outputs": [],
   "source": [
    "'''Output Example\n",
    "Epoch 1/5\n",
    "1875/1875 - 5s - 3ms/step - accuracy: 0.9439 - loss: 0.1853\n",
    "Epoch 2/5\n",
    "1875/1875 - 5s - 3ms/step - accuracy: 0.9751 - loss: 0.0805\n",
    "Epoch 3/5\n",
    "1875/1875 - 5s - 3ms/step - accuracy: 0.9834 - loss: 0.0533\n",
    "Epoch 4/5\n",
    "1875/1875 - 5s - 3ms/step - accuracy: 0.9867 - loss: 0.0408\n",
    "'''\n",
    "#Epoch 5/5\n",
    "#1875/1875 - 5s - 3ms/step - accuracy: 0.9888 - loss: 0.0344 #Final Training\n",
    "#313/313 - 0s - 841us/step - accuracy: 0.9737 - loss: 0.0902 #Test\n",
    "#          Loss              Accuracy\n",
    "#[0.09024464339017868, 0.9736999869346619]\n"
   ]
  },
  {
   "cell_type": "code",
   "execution_count": null,
   "id": "9d33b7e4-17d8-4969-af9f-47d1051a4210",
   "metadata": {},
   "outputs": [],
   "source": [
    "#Creating Model : Neural Network\n",
    "'''#Functional API of Keras: more flexible'''\n",
    "#can handle multiple inputs and outputs"
   ]
  }
 ],
 "metadata": {
  "kernelspec": {
   "display_name": "Python 3 (ipykernel)",
   "language": "python",
   "name": "python3"
  },
  "language_info": {
   "codemirror_mode": {
    "name": "ipython",
    "version": 3
   },
   "file_extension": ".py",
   "mimetype": "text/x-python",
   "name": "python",
   "nbconvert_exporter": "python",
   "pygments_lexer": "ipython3",
   "version": "3.11.12"
  }
 },
 "nbformat": 4,
 "nbformat_minor": 5
}
