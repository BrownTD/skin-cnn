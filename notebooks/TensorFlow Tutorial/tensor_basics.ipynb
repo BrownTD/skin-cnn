{
 "cells": [
  {
   "cell_type": "code",
   "execution_count": 6,
   "id": "608765c9-90f3-4789-9192-41540d75bc08",
   "metadata": {},
   "outputs": [],
   "source": [
    "import tensorflow as tf"
   ]
  },
  {
   "cell_type": "code",
   "execution_count": 7,
   "id": "bb12abdd-340b-4284-83b6-d9f6ca2e8460",
   "metadata": {},
   "outputs": [
    {
     "name": "stdout",
     "output_type": "stream",
     "text": [
      "2.19.0\n"
     ]
    }
   ],
   "source": [
    "print(tf.__version__)"
   ]
  },
  {
   "cell_type": "code",
   "execution_count": 27,
   "id": "bd7180ad-4a47-4ad4-a8a2-2aa6646814af",
   "metadata": {},
   "outputs": [
    {
     "name": "stdout",
     "output_type": "stream",
     "text": [
      "tf.Tensor([1. 3. 5. 7. 9.], shape=(5,), dtype=float64)\n"
     ]
    }
   ],
   "source": [
    "#Initialization of Tensors\n",
    "\n",
    "#Manual Initialization\n",
    "x = tf.constant(4, shape=(1,1),dtype=tf.float32) #specify shape and data type\n",
    "x = tf.constant([[1,2,3],[4,5,6]])\n",
    "\n",
    "#3x3 Matrix with values of ones\n",
    "x= tf.ones((3,3))\n",
    "x = tf.zeros((2,3))\n",
    "\n",
    "#I for the identity matrix *eye* (1's in diagonal 0's everywhere else)\n",
    "x = tf.eye(3) \n",
    "\n",
    "#Standard Normal Distribution (3,3): Matrix\n",
    "x = tf.random.normal((3,3), mean=0, stddev=1)\n",
    "\n",
    "#Uniform Distribution (1,3): Vector\n",
    "x = tf.random.uniform((1,3), minval=0, maxval=1)\n",
    "\n",
    "#Initialize using Range method (Vector)\n",
    "x = tf.range(start=1, limit=10, delta=2) # behaves exactly like range with differnt named parameters.\n",
    "\n",
    "#Cast to different dtypes tf.float, tf.int, tf.bool\n",
    "x = tf.cast(x, dtype=tf.float64)\n",
    "\n",
    "print(x)"
   ]
  },
  {
   "cell_type": "code",
   "execution_count": 41,
   "id": "05280e35-cfc3-460e-8b6b-a2a5d7695d52",
   "metadata": {},
   "outputs": [
    {
     "name": "stdout",
     "output_type": "stream",
     "text": [
      "tf.Tensor(\n",
      "[[-0.01766162  3.828584    1.3611789   0.54579276]\n",
      " [-1.6232768  -0.3390254  -0.65410167 -2.5054176 ]], shape=(2, 4), dtype=float32)\n",
      "tf.Tensor(\n",
      "[[-0.01766162  3.828584    1.3611789   0.54579276]\n",
      " [-1.6232768  -0.3390254  -0.65410167 -2.5054176 ]], shape=(2, 4), dtype=float32)\n"
     ]
    }
   ],
   "source": [
    "#Mathematical Operations\n",
    "x = tf.constant([1,2,3])\n",
    "y = tf.constant([9,8,7])\n",
    "\n",
    "#operates element wise\n",
    "z = tf.add(x,y)\n",
    "z = x + y\n",
    "\n",
    "z = tf.subtract(x,y)\n",
    "z = x - y\n",
    "\n",
    "z = tf.divide(x,y)\n",
    "z = x/y\n",
    "\n",
    "z = tf.multiply(x,y)\n",
    "z = x*y\n",
    "\n",
    "#Dot Product: sums the product of each column product\n",
    "z = tf.tensordot(x,y, axes=1)\n",
    "z = tf.reduce_sum(x*y,axis=0)\n",
    "\n",
    "#exponentian \n",
    "z = x ** 5\n",
    "\n",
    "#Matrix multiplication\n",
    "x = tf.random.normal((2,3))\n",
    "y = tf.random.normal((3,4))\n",
    "z = tf.matmul(x, y)\n",
    "z = x @ y\n",
    "print(z)"
   ]
  },
  {
   "cell_type": "code",
   "execution_count": 48,
   "id": "118b9368-82a2-4a83-aa08-02d5270dbf28",
   "metadata": {},
   "outputs": [
    {
     "name": "stdout",
     "output_type": "stream",
     "text": [
      "tf.Tensor([0 1 1 2 3 1 2 3], shape=(8,), dtype=int32)\n",
      "tf.Tensor([1 1 2 3 1 2 3], shape=(7,), dtype=int32)\n",
      "tf.Tensor([0 1 3 2], shape=(4,), dtype=int32)\n",
      "tf.Tensor([3 2 1 3 2 1 1 0], shape=(8,), dtype=int32)\n",
      "tf.Tensor([0 2], shape=(2,), dtype=int32)\n",
      "tf.Tensor([1 2], shape=(2,), dtype=int32)\n",
      "tf.Tensor([1 2], shape=(2,), dtype=int32)\n",
      "tf.Tensor(\n",
      "[[1 2]\n",
      " [3 4]], shape=(2, 2), dtype=int32)\n"
     ]
    }
   ],
   "source": [
    "#Indexing Vectors\n",
    "x = tf.constant([0,1,1,2,3,1,2,3])\n",
    "print(x[:]) #print all elements\n",
    "print(x[1:])\n",
    "print(x[::2]) #skip elements by 2\n",
    "print(x[::-1]) #print in reverse order\n",
    "\n",
    "#specify indices; extraction\n",
    "indices = tf.constant([0,3])\n",
    "x_ind = tf.gather(x, indices)\n",
    "print(x_ind)\n",
    "\n",
    "#Indexing Matrices\n",
    "\n",
    "x = tf.constant([[1,2],\n",
    "                 [3,4],\n",
    "                 [5,6]])\n",
    "\n",
    "#Print only first row\n",
    "print(x[0]) \n",
    "print(x[0,:]) # when adding multiple dimension of a tensor seperate values by a comma\n",
    "print(x[0:2,:])"
   ]
  },
  {
   "cell_type": "code",
   "execution_count": 54,
   "id": "97f1097a-295b-4979-a2c2-ec7ec87a0912",
   "metadata": {},
   "outputs": [
    {
     "name": "stdout",
     "output_type": "stream",
     "text": [
      "tf.Tensor([0 1 2 3 4 5 6 7 8], shape=(9,), dtype=int32)\n",
      "tf.Tensor(\n",
      "[[0 1 2]\n",
      " [3 4 5]\n",
      " [6 7 8]], shape=(3, 3), dtype=int32)\n",
      "tf.Tensor(\n",
      "[[0 3 6]\n",
      " [1 4 7]\n",
      " [2 5 8]], shape=(3, 3), dtype=int32)\n"
     ]
    }
   ],
   "source": [
    "#Reshaping\n",
    "x = tf.range(9) # initially a vector\n",
    "print(x)\n",
    "\n",
    "x = tf.reshape(x, (3,3)) # now a matrix\n",
    "print(x)\n",
    "\n",
    "#transpose using perm=[]: swaps axis, 1st Row --> 1st Column 2nd Row --> 2nd Column, etc\n",
    "x = tf.transpose(x, perm=[1,0])\n",
    "print(x)\n"
   ]
  },
  {
   "cell_type": "code",
   "execution_count": null,
   "id": "2eaa70db-0daf-4fee-81a1-5e27edbbf17c",
   "metadata": {},
   "outputs": [],
   "source": []
  }
 ],
 "metadata": {
  "kernelspec": {
   "display_name": "Python 3 (ipykernel)",
   "language": "python",
   "name": "python3"
  },
  "language_info": {
   "codemirror_mode": {
    "name": "ipython",
    "version": 3
   },
   "file_extension": ".py",
   "mimetype": "text/x-python",
   "name": "python",
   "nbconvert_exporter": "python",
   "pygments_lexer": "ipython3",
   "version": "3.11.12"
  }
 },
 "nbformat": 4,
 "nbformat_minor": 5
}
